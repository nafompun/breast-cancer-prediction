{
 "cells": [
  {
   "cell_type": "markdown",
   "metadata": {},
   "source": [
    "## Model Building and Evaluation\n",
    "Here we have used 5 models which are the KNN Classifier, Logistic Regression, Decision Tree Classifier, Random Forest Classifier and Gradient Boosting Classifier. We will be documenting it in the following chunks of code. Before doing this, we will be scaling our data and applying Prinicpal Component Analysis to our data. We will then build models with our original unscaled data and Oue data which has been pre-processed and compare results."
   ]
  },
  {
   "cell_type": "code",
   "execution_count": 1,
   "metadata": {},
   "outputs": [],
   "source": [
    "## Importing the necessary libraries.\n",
    "import numpy as np\n",
    "import pandas as pd\n"
   ]
  },
  {
   "cell_type": "code",
   "execution_count": 2,
   "metadata": {},
   "outputs": [
    {
     "name": "stdout",
     "output_type": "stream",
     "text": [
      "(569, 32)\n",
      "        id diagnosis  radius_mean  texture_mean  perimeter_mean  area_mean  \\\n",
      "0    84232         M        17.99          1.38          122.80       11.0   \n",
      "1   842517         M         2.57         17.77          132.90     1326.0   \n",
      "2    84393         M        19.69         21.25           13.00      123.0   \n",
      "3  8434831         M        11.42          2.38           77.58      386.1   \n",
      "4  8435842         M         2.29         14.34          135.10     1297.0   \n",
      "\n",
      "   smoothness_mean  compactness_mean  concavity_mean  concave_points_mean  \\\n",
      "0           0.1184            0.2776          0.3100               0.1471   \n",
      "1           0.8474            0.7864          0.8690               0.7170   \n",
      "2           0.1960            0.1599          0.1974               0.1279   \n",
      "3           0.1425            0.2839          0.2414               0.1520   \n",
      "4           0.1300            0.1328          0.1980               0.1430   \n",
      "\n",
      "   ...  radius_worst  texture_worst  perimeter_worst  area_worst  \\\n",
      "0  ...         25.38          17.33           184.60       219.0   \n",
      "1  ...         24.99          23.41           158.80      1956.0   \n",
      "2  ...         23.57          25.53           152.50       179.0   \n",
      "3  ...         14.91          26.50            98.87       567.7   \n",
      "4  ...         22.54          16.67           152.20      1575.0   \n",
      "\n",
      "   smoothness_worst  compactness_worst  concavity_worst  concave_points_worst  \\\n",
      "0            0.1622             0.6656           0.7119                0.2654   \n",
      "1            0.1238             0.1866           0.2416                0.1860   \n",
      "2            0.1444             0.4245           0.4540                0.2430   \n",
      "3            0.2980             0.8663           0.6869                0.2575   \n",
      "4            0.1374             0.2500           0.4000                0.1625   \n",
      "\n",
      "   symmetry_worst  fractal_dimension_worst  \n",
      "0          0.4610                   0.1189  \n",
      "1          0.2750                   0.8920  \n",
      "2          0.3613                   0.8758  \n",
      "3          0.6638                   0.1730  \n",
      "4          0.2364                   0.7678  \n",
      "\n",
      "[5 rows x 32 columns]\n"
     ]
    }
   ],
   "source": [
    "##Loading our data\n",
    "data = pd.read_csv(\"cancer data.csv\")\n",
    "breastcancer = pd.read_csv(\"cancer data.csv\")\n",
    "print(data.shape)\n",
    "print(data.head())"
   ]
  },
  {
   "cell_type": "code",
   "execution_count": 3,
   "metadata": {},
   "outputs": [
    {
     "ename": "KeyError",
     "evalue": "\"['Unnamed: 32'] not found in axis\"",
     "output_type": "error",
     "traceback": [
      "\u001b[1;31m---------------------------------------------------------------------------\u001b[0m",
      "\u001b[1;31mKeyError\u001b[0m                                  Traceback (most recent call last)",
      "\u001b[1;32m<ipython-input-3-715e5a2651f4>\u001b[0m in \u001b[0;36m<module>\u001b[1;34m\u001b[0m\n\u001b[0;32m      1\u001b[0m \u001b[1;31m##Dropping the Unnamed column and making y the target variable.\u001b[0m\u001b[1;33m\u001b[0m\u001b[1;33m\u001b[0m\u001b[1;33m\u001b[0m\u001b[0m\n\u001b[1;32m----> 2\u001b[1;33m \u001b[0mX\u001b[0m \u001b[1;33m=\u001b[0m \u001b[0mdata\u001b[0m\u001b[1;33m.\u001b[0m\u001b[0mdrop\u001b[0m\u001b[1;33m(\u001b[0m\u001b[1;33m[\u001b[0m\u001b[1;34m'Unnamed: 32'\u001b[0m\u001b[1;33m,\u001b[0m \u001b[1;34m'diagnosis'\u001b[0m\u001b[1;33m]\u001b[0m\u001b[1;33m,\u001b[0m \u001b[0maxis\u001b[0m \u001b[1;33m=\u001b[0m\u001b[1;36m1\u001b[0m\u001b[1;33m)\u001b[0m \u001b[1;31m##Feature\u001b[0m\u001b[1;33m\u001b[0m\u001b[1;33m\u001b[0m\u001b[0m\n\u001b[0m\u001b[0;32m      3\u001b[0m \u001b[0my\u001b[0m \u001b[1;33m=\u001b[0m \u001b[0mdata\u001b[0m\u001b[1;33m[\u001b[0m\u001b[1;34m'diagnosis'\u001b[0m\u001b[1;33m]\u001b[0m \u001b[1;31m##Target\u001b[0m\u001b[1;33m\u001b[0m\u001b[1;33m\u001b[0m\u001b[0m\n",
      "\u001b[1;32m~\\Anaconda3\\lib\\site-packages\\pandas\\core\\frame.py\u001b[0m in \u001b[0;36mdrop\u001b[1;34m(self, labels, axis, index, columns, level, inplace, errors)\u001b[0m\n\u001b[0;32m   4100\u001b[0m             \u001b[0mlevel\u001b[0m\u001b[1;33m=\u001b[0m\u001b[0mlevel\u001b[0m\u001b[1;33m,\u001b[0m\u001b[1;33m\u001b[0m\u001b[1;33m\u001b[0m\u001b[0m\n\u001b[0;32m   4101\u001b[0m             \u001b[0minplace\u001b[0m\u001b[1;33m=\u001b[0m\u001b[0minplace\u001b[0m\u001b[1;33m,\u001b[0m\u001b[1;33m\u001b[0m\u001b[1;33m\u001b[0m\u001b[0m\n\u001b[1;32m-> 4102\u001b[1;33m             \u001b[0merrors\u001b[0m\u001b[1;33m=\u001b[0m\u001b[0merrors\u001b[0m\u001b[1;33m,\u001b[0m\u001b[1;33m\u001b[0m\u001b[1;33m\u001b[0m\u001b[0m\n\u001b[0m\u001b[0;32m   4103\u001b[0m         )\n\u001b[0;32m   4104\u001b[0m \u001b[1;33m\u001b[0m\u001b[0m\n",
      "\u001b[1;32m~\\Anaconda3\\lib\\site-packages\\pandas\\core\\generic.py\u001b[0m in \u001b[0;36mdrop\u001b[1;34m(self, labels, axis, index, columns, level, inplace, errors)\u001b[0m\n\u001b[0;32m   3912\u001b[0m         \u001b[1;32mfor\u001b[0m \u001b[0maxis\u001b[0m\u001b[1;33m,\u001b[0m \u001b[0mlabels\u001b[0m \u001b[1;32min\u001b[0m \u001b[0maxes\u001b[0m\u001b[1;33m.\u001b[0m\u001b[0mitems\u001b[0m\u001b[1;33m(\u001b[0m\u001b[1;33m)\u001b[0m\u001b[1;33m:\u001b[0m\u001b[1;33m\u001b[0m\u001b[1;33m\u001b[0m\u001b[0m\n\u001b[0;32m   3913\u001b[0m             \u001b[1;32mif\u001b[0m \u001b[0mlabels\u001b[0m \u001b[1;32mis\u001b[0m \u001b[1;32mnot\u001b[0m \u001b[1;32mNone\u001b[0m\u001b[1;33m:\u001b[0m\u001b[1;33m\u001b[0m\u001b[1;33m\u001b[0m\u001b[0m\n\u001b[1;32m-> 3914\u001b[1;33m                 \u001b[0mobj\u001b[0m \u001b[1;33m=\u001b[0m \u001b[0mobj\u001b[0m\u001b[1;33m.\u001b[0m\u001b[0m_drop_axis\u001b[0m\u001b[1;33m(\u001b[0m\u001b[0mlabels\u001b[0m\u001b[1;33m,\u001b[0m \u001b[0maxis\u001b[0m\u001b[1;33m,\u001b[0m \u001b[0mlevel\u001b[0m\u001b[1;33m=\u001b[0m\u001b[0mlevel\u001b[0m\u001b[1;33m,\u001b[0m \u001b[0merrors\u001b[0m\u001b[1;33m=\u001b[0m\u001b[0merrors\u001b[0m\u001b[1;33m)\u001b[0m\u001b[1;33m\u001b[0m\u001b[1;33m\u001b[0m\u001b[0m\n\u001b[0m\u001b[0;32m   3915\u001b[0m \u001b[1;33m\u001b[0m\u001b[0m\n\u001b[0;32m   3916\u001b[0m         \u001b[1;32mif\u001b[0m \u001b[0minplace\u001b[0m\u001b[1;33m:\u001b[0m\u001b[1;33m\u001b[0m\u001b[1;33m\u001b[0m\u001b[0m\n",
      "\u001b[1;32m~\\Anaconda3\\lib\\site-packages\\pandas\\core\\generic.py\u001b[0m in \u001b[0;36m_drop_axis\u001b[1;34m(self, labels, axis, level, errors)\u001b[0m\n\u001b[0;32m   3944\u001b[0m                 \u001b[0mnew_axis\u001b[0m \u001b[1;33m=\u001b[0m \u001b[0maxis\u001b[0m\u001b[1;33m.\u001b[0m\u001b[0mdrop\u001b[0m\u001b[1;33m(\u001b[0m\u001b[0mlabels\u001b[0m\u001b[1;33m,\u001b[0m \u001b[0mlevel\u001b[0m\u001b[1;33m=\u001b[0m\u001b[0mlevel\u001b[0m\u001b[1;33m,\u001b[0m \u001b[0merrors\u001b[0m\u001b[1;33m=\u001b[0m\u001b[0merrors\u001b[0m\u001b[1;33m)\u001b[0m\u001b[1;33m\u001b[0m\u001b[1;33m\u001b[0m\u001b[0m\n\u001b[0;32m   3945\u001b[0m             \u001b[1;32melse\u001b[0m\u001b[1;33m:\u001b[0m\u001b[1;33m\u001b[0m\u001b[1;33m\u001b[0m\u001b[0m\n\u001b[1;32m-> 3946\u001b[1;33m                 \u001b[0mnew_axis\u001b[0m \u001b[1;33m=\u001b[0m \u001b[0maxis\u001b[0m\u001b[1;33m.\u001b[0m\u001b[0mdrop\u001b[0m\u001b[1;33m(\u001b[0m\u001b[0mlabels\u001b[0m\u001b[1;33m,\u001b[0m \u001b[0merrors\u001b[0m\u001b[1;33m=\u001b[0m\u001b[0merrors\u001b[0m\u001b[1;33m)\u001b[0m\u001b[1;33m\u001b[0m\u001b[1;33m\u001b[0m\u001b[0m\n\u001b[0m\u001b[0;32m   3947\u001b[0m             \u001b[0mresult\u001b[0m \u001b[1;33m=\u001b[0m \u001b[0mself\u001b[0m\u001b[1;33m.\u001b[0m\u001b[0mreindex\u001b[0m\u001b[1;33m(\u001b[0m\u001b[1;33m**\u001b[0m\u001b[1;33m{\u001b[0m\u001b[0maxis_name\u001b[0m\u001b[1;33m:\u001b[0m \u001b[0mnew_axis\u001b[0m\u001b[1;33m}\u001b[0m\u001b[1;33m)\u001b[0m\u001b[1;33m\u001b[0m\u001b[1;33m\u001b[0m\u001b[0m\n\u001b[0;32m   3948\u001b[0m \u001b[1;33m\u001b[0m\u001b[0m\n",
      "\u001b[1;32m~\\Anaconda3\\lib\\site-packages\\pandas\\core\\indexes\\base.py\u001b[0m in \u001b[0;36mdrop\u001b[1;34m(self, labels, errors)\u001b[0m\n\u001b[0;32m   5338\u001b[0m         \u001b[1;32mif\u001b[0m \u001b[0mmask\u001b[0m\u001b[1;33m.\u001b[0m\u001b[0many\u001b[0m\u001b[1;33m(\u001b[0m\u001b[1;33m)\u001b[0m\u001b[1;33m:\u001b[0m\u001b[1;33m\u001b[0m\u001b[1;33m\u001b[0m\u001b[0m\n\u001b[0;32m   5339\u001b[0m             \u001b[1;32mif\u001b[0m \u001b[0merrors\u001b[0m \u001b[1;33m!=\u001b[0m \u001b[1;34m\"ignore\"\u001b[0m\u001b[1;33m:\u001b[0m\u001b[1;33m\u001b[0m\u001b[1;33m\u001b[0m\u001b[0m\n\u001b[1;32m-> 5340\u001b[1;33m                 \u001b[1;32mraise\u001b[0m \u001b[0mKeyError\u001b[0m\u001b[1;33m(\u001b[0m\u001b[1;34m\"{} not found in axis\"\u001b[0m\u001b[1;33m.\u001b[0m\u001b[0mformat\u001b[0m\u001b[1;33m(\u001b[0m\u001b[0mlabels\u001b[0m\u001b[1;33m[\u001b[0m\u001b[0mmask\u001b[0m\u001b[1;33m]\u001b[0m\u001b[1;33m)\u001b[0m\u001b[1;33m)\u001b[0m\u001b[1;33m\u001b[0m\u001b[1;33m\u001b[0m\u001b[0m\n\u001b[0m\u001b[0;32m   5341\u001b[0m             \u001b[0mindexer\u001b[0m \u001b[1;33m=\u001b[0m \u001b[0mindexer\u001b[0m\u001b[1;33m[\u001b[0m\u001b[1;33m~\u001b[0m\u001b[0mmask\u001b[0m\u001b[1;33m]\u001b[0m\u001b[1;33m\u001b[0m\u001b[1;33m\u001b[0m\u001b[0m\n\u001b[0;32m   5342\u001b[0m         \u001b[1;32mreturn\u001b[0m \u001b[0mself\u001b[0m\u001b[1;33m.\u001b[0m\u001b[0mdelete\u001b[0m\u001b[1;33m(\u001b[0m\u001b[0mindexer\u001b[0m\u001b[1;33m)\u001b[0m\u001b[1;33m\u001b[0m\u001b[1;33m\u001b[0m\u001b[0m\n",
      "\u001b[1;31mKeyError\u001b[0m: \"['Unnamed: 32'] not found in axis\""
     ]
    }
   ],
   "source": [
    "##Dropping the Unnamed column and making y the target variable.\n",
    "X = data.drop(['Unnamed: 32', 'diagnosis'], axis =1) ##Feature\n",
    "y = data['diagnosis'] ##Target "
   ]
  },
  {
   "cell_type": "markdown",
   "metadata": {},
   "source": [
    "Here we are scaling our feature data"
   ]
  },
  {
   "cell_type": "code",
   "execution_count": 16,
   "metadata": {},
   "outputs": [],
   "source": [
    "from sklearn.preprocessing import StandardScaler\n",
    "scaler = StandardScaler() \n",
    "scaler.fit(X) \n",
    "scaled_breastcancer = scaler.transform(X)\n"
   ]
  },
  {
   "cell_type": "markdown",
   "metadata": {},
   "source": [
    "## Pricipal Compnent Analysis\n",
    "Here, we are proceeding to perfom principal component analysis on our data"
   ]
  },
  {
   "cell_type": "code",
   "execution_count": 24,
   "metadata": {},
   "outputs": [],
   "source": [
    "##We are initially taking all 30 components of our cleaned data to understand what is happening with our data\n",
    "from sklearn.decomposition import PCA\n",
    "pca = PCA(n_components = 30)\n",
    "pca.fit(scaled_breastcancer)\n",
    "pcabreastcancer = pca.transform(scaled_breastcancer)"
   ]
  },
  {
   "cell_type": "code",
   "execution_count": 18,
   "metadata": {},
   "outputs": [
    {
     "data": {
      "text/plain": [
       "Text(0, 0.5, 'explained variance')"
      ]
     },
     "execution_count": 18,
     "metadata": {},
     "output_type": "execute_result"
    },
    {
     "data": {
      "image/png": "[encoded data removed]",
      "text/plain": [
       "<Figure size 432x288 with 1 Axes>"
      ]
     },
     "metadata": {
      "needs_background": "light"
     },
     "output_type": "display_data"
    }
   ],
   "source": [
    "##Here, we are looking at the cummulative explained variance.\n",
    "import matplotlib.pyplot as plt\n",
    "index=range(0,30)\n",
    "plt.bar(index,pca.explained_variance_ratio_)\n",
    "plt.xlabel('component', fontsize=15)\n",
    "plt.ylabel('explained variance', fontsize=15)"
   ]
  },
  {
   "cell_type": "markdown",
   "metadata": {},
   "source": [
    "Below, we can  see that that 10 components account for explained variance on majority of our data. but to confirm we will make anothe line plot below."
   ]
  },
  {
   "cell_type": "code",
   "execution_count": 25,
   "metadata": {},
   "outputs": [
    {
     "data": {
      "text/plain": [
       "Text(0, 0.5, 'cumulative explained variance')"
      ]
     },
     "execution_count": 25,
     "metadata": {},
     "output_type": "execute_result"
    },
    {
     "data": {
      "image/png": "[encoded data removed]",
      "text/plain": [
       "<Figure size 432x288 with 1 Axes>"
      ]
     },
     "metadata": {
      "needs_background": "light"
     },
     "output_type": "display_data"
    }
   ],
   "source": [
    "##This plot tells us the explained variance ratio for our data\n",
    "import numpy as np\n",
    "plt.plot(np.cumsum(pca.explained_variance_ratio_))\n",
    "plt.xlabel('number of components')\n",
    "plt.ylabel('cumulative explained variance')"
   ]
  },
  {
   "cell_type": "markdown",
   "metadata": {},
   "source": [
    "As seen in the plot above the 10 cpmponents account for about 95% of the cummulative explained variance so we will select 10 components for our model building."
   ]
  },
  {
   "cell_type": "code",
   "execution_count": 26,
   "metadata": {},
   "outputs": [
    {
     "data": {
      "text/plain": [
       "array([[ 2.29121629e-02,  2.18913018e-01,  1.03843884e-01,\n",
       "         2.27534912e-01,  2.21045775e-01,  1.42414707e-01,\n",
       "         2.39067299e-01,  2.58280254e-01,  2.60738114e-01,\n",
       "         1.37977741e-01,  6.41477914e-02,  2.06117467e-01,\n",
       "         1.74133924e-02,  2.11446519e-01,  2.03076420e-01,\n",
       "         1.46782103e-02,  1.70288397e-01,  1.53543673e-01,\n",
       "         1.83406751e-01,  4.24155186e-02,  1.02496073e-01,\n",
       "         2.28009352e-01,  1.04515447e-01,  2.36637339e-01,\n",
       "         2.24932135e-01,  1.27824406e-01,  2.09884561e-01,\n",
       "         2.28602175e-01,  2.50746203e-01,  1.22679932e-01,\n",
       "         1.31560243e-01],\n",
       "       [-3.40684907e-02, -2.33271401e-01, -6.00441986e-02,\n",
       "        -2.14589002e-01, -2.30668816e-01,  1.86422211e-01,\n",
       "         1.52454726e-01,  6.05416253e-02, -3.41673916e-02,\n",
       "         1.90684979e-01,  3.66531055e-01, -1.05935702e-01,\n",
       "         8.95477887e-02, -8.98070428e-02, -1.52771289e-01,\n",
       "         2.03189876e-01,  2.32503362e-01,  1.96846081e-01,\n",
       "         1.29965181e-01,  1.83558627e-01,  2.79584139e-01,\n",
       "        -2.19296044e-01, -4.55012225e-02, -1.99295985e-01,\n",
       "        -2.18985461e-01,  1.72562959e-01,  1.44253637e-01,\n",
       "         9.85265243e-02, -7.53436736e-03,  1.42619436e-01,\n",
       "         2.75702077e-01],\n",
       "       [ 9.69384357e-02, -1.13937863e-02,  6.68923422e-02,\n",
       "        -1.21247907e-02,  2.62931497e-02, -1.03182400e-01,\n",
       "        -7.47686230e-02,  1.75873594e-03, -2.75796069e-02,\n",
       "        -4.09620321e-02, -2.08178746e-02,  2.66917221e-01,\n",
       "         3.71439885e-01,  2.64925682e-01,  2.15790250e-01,\n",
       "         3.11787845e-01,  1.54557465e-01,  1.76560052e-01,\n",
       "         2.23850479e-01,  2.85265066e-01,  2.11893354e-01,\n",
       "        -4.94063395e-02, -3.98289339e-02, -5.04319449e-02,\n",
       "        -1.31888912e-02, -2.55328751e-01, -2.34513609e-01,\n",
       "        -1.72024941e-01, -1.70480673e-01, -2.70515902e-01,\n",
       "        -2.29474476e-01],\n",
       "       [-2.65980453e-02,  4.21879503e-02, -6.02954308e-01,\n",
       "         4.27527972e-02,  5.41147240e-02,  1.58098177e-01,\n",
       "         3.18181168e-02,  1.94971242e-02,  6.57853527e-02,\n",
       "         6.75025426e-02,  4.79578564e-02,  9.91144458e-02,\n",
       "        -3.56497230e-01,  9.02930555e-02,  1.08568705e-01,\n",
       "         4.43686639e-02, -2.64253603e-02,  2.24829120e-03,\n",
       "         7.52522324e-02,  4.69361262e-02,  1.62124502e-02,\n",
       "         1.56597047e-02, -6.33119655e-01,  1.40685717e-02,\n",
       "         2.59706715e-02,  1.45233595e-02, -9.25621677e-02,\n",
       "        -7.48071883e-02,  5.30597982e-03, -3.71294655e-02,\n",
       "        -7.89714892e-02],\n",
       "       [-1.13275871e-02,  3.81298606e-02, -4.90914502e-02,\n",
       "         3.77155917e-02,  1.05622290e-02, -3.65750055e-01,\n",
       "         1.17866372e-02,  8.65125060e-02, -4.36674117e-02,\n",
       "        -3.05378893e-01, -4.47679064e-02, -1.54254367e-01,\n",
       "        -1.90001500e-01, -1.20703357e-01, -1.27765023e-01,\n",
       "        -2.32745603e-01,  2.80298048e-01,  3.54164595e-01,\n",
       "         1.95758558e-01, -2.51331178e-01,  2.63395188e-01,\n",
       "        -4.28003421e-03, -9.25518597e-02,  7.59914369e-03,\n",
       "        -2.74135953e-02, -3.25860028e-01,  1.21503371e-01,\n",
       "         1.88280510e-01,  4.31235727e-02, -2.44245936e-01,\n",
       "         9.36990782e-02],\n",
       "       [ 3.16733438e-01, -2.95885214e-02,  3.13943235e-02,\n",
       "        -2.83940081e-02, -6.11315511e-03,  2.62508993e-01,\n",
       "         4.90389406e-03,  2.35633784e-03,  3.45092730e-02,\n",
       "        -3.35082168e-01,  1.12784169e-01,  2.32611990e-02,\n",
       "        -2.28569116e-02, -3.82015070e-03,  5.19588353e-02,\n",
       "         3.30867850e-01, -6.67881201e-02, -4.96991037e-02,\n",
       "         2.31975263e-02, -4.77530515e-01,  4.84623730e-02,\n",
       "        -4.52173650e-03,  4.51745156e-02, -1.29211658e-02,\n",
       "         2.40333377e-02,  3.65048687e-01, -3.40427143e-02,\n",
       "        -1.79620401e-02,  2.95490998e-02, -4.51404312e-01,\n",
       "         9.24796979e-02],\n",
       "       [ 9.07115632e-01, -4.22987777e-02,  1.49935618e-02,\n",
       "        -4.35888242e-02, -2.89256668e-02, -1.40340362e-01,\n",
       "        -4.53031106e-02, -3.25530646e-02, -8.14216298e-02,\n",
       "         1.18259236e-01, -4.10588768e-02,  1.67882718e-02,\n",
       "        -1.90267647e-01,  1.95081762e-02,  5.65606078e-02,\n",
       "        -6.78348099e-02,  2.22220211e-02,  3.36810725e-02,\n",
       "        -3.78517870e-02,  1.18403261e-01, -1.57602244e-02,\n",
       "        -1.66458140e-02, -9.46012397e-03, -1.45260986e-02,\n",
       "        -7.37260183e-04, -6.70682168e-02,  5.07556727e-02,\n",
       "         3.52007117e-02, -2.07238959e-02,  2.34014329e-01,\n",
       "         3.47167538e-02],\n",
       "       [-9.63624150e-02, -1.16427419e-01,  1.87548206e-03,\n",
       "        -1.06272097e-01, -4.74145683e-02, -1.23541189e-01,\n",
       "         4.31459676e-02, -1.02436021e-01, -1.36923237e-01,\n",
       "        -9.88745312e-02,  3.06499872e-01,  3.07415709e-01,\n",
       "        -5.26324770e-02,  3.11265679e-01,  3.34287959e-01,\n",
       "        -2.60833914e-01,  2.10019435e-02, -2.19193299e-01,\n",
       "        -3.70217167e-01, -8.48547675e-02,  1.94418818e-01,\n",
       "        -7.50830655e-03,  6.61764040e-03,  2.16248810e-03,\n",
       "         6.61731861e-02, -1.16496117e-01,  1.36509363e-01,\n",
       "        -6.70857444e-02, -1.66500918e-01, -4.14396326e-02,\n",
       "         3.72034479e-01],\n",
       "       [-1.49115642e-01,  4.62708347e-02,  8.87271675e-02,\n",
       "         3.62307377e-02,  8.06498555e-02, -2.78996404e-01,\n",
       "        -9.92140483e-02, -7.57504642e-02, -1.16569072e-01,\n",
       "        -3.15150303e-01, -1.30639482e-01, -2.62004557e-02,\n",
       "        -3.72989606e-01, -5.28601137e-02,  3.06278923e-02,\n",
       "         5.80789293e-01,  1.48593714e-01, -3.47150979e-02,\n",
       "        -1.89022962e-01,  2.92785738e-01,  6.02032019e-02,\n",
       "         7.02245898e-02,  8.57180911e-03,  5.88542232e-02,\n",
       "         9.70346497e-02,  1.73257498e-01,  1.11218083e-01,\n",
       "         3.54673774e-02, -5.23224729e-02,  1.88266324e-01,\n",
       "         8.72224417e-02],\n",
       "       [-1.69267515e-01, -2.24027044e-01,  1.19456735e-01,\n",
       "        -2.26345171e-01, -1.86003854e-01, -6.13382189e-02,\n",
       "        -1.95186018e-01,  3.39556280e-02, -1.42616778e-01,\n",
       "         1.35614519e-01, -1.58481169e-01,  2.65044027e-01,\n",
       "        -3.15210842e-01,  2.37892875e-01,  2.49664053e-01,\n",
       "        -1.01597964e-02, -1.15183433e-01,  3.65921410e-01,\n",
       "         2.15187518e-01, -2.20495585e-01, -2.26379968e-01,\n",
       "        -9.98102543e-02,  1.06692963e-01, -9.82169314e-02,\n",
       "        -6.17978735e-02,  1.69127525e-01, -6.44528977e-02,\n",
       "         1.96619863e-01,  5.12161119e-02,  1.03089008e-01,\n",
       "        -1.12913994e-01],\n",
       "       [-5.81889971e-02,  7.94660810e-02,  2.53258091e-01,\n",
       "         6.98659290e-02,  6.27953721e-02, -8.46615487e-02,\n",
       "        -5.17284121e-03, -1.34664686e-01, -6.12485985e-03,\n",
       "         5.74417320e-01,  6.64561118e-02, -2.58472816e-02,\n",
       "        -3.23158815e-01, -9.48674415e-02, -7.19915602e-02,\n",
       "         1.79568831e-01,  3.86157487e-02, -1.13536362e-01,\n",
       "         9.40668503e-02, -3.28314881e-01,  3.53844543e-01,\n",
       "         7.30130139e-02,  3.85612500e-02,  4.57509789e-02,\n",
       "         6.88223289e-02, -1.09278029e-01, -1.75401648e-01,\n",
       "        -2.95581609e-01, -7.54967518e-02, -1.92234507e-02,\n",
       "         7.07163375e-03],\n",
       "       [ 6.72125159e-03,  4.22137877e-02, -3.04032359e-01,\n",
       "         1.75730552e-02,  1.10760120e-01, -1.35321954e-01,\n",
       "        -3.07036205e-01,  1.24553100e-01, -7.15646861e-02,\n",
       "         1.61058144e-01, -3.73187087e-02, -2.70302500e-02,\n",
       "         3.48396233e-01, -1.68501485e-01,  5.07314962e-02,\n",
       "         8.17533738e-02, -2.06959272e-01,  3.48342358e-01,\n",
       "        -3.42855186e-01, -1.85998712e-01,  2.50428852e-01,\n",
       "         1.05030701e-01,  1.24903478e-02,  5.11251580e-02,\n",
       "         1.84460981e-01,  1.42996001e-01, -1.96805544e-01,\n",
       "         1.84959562e-01, -1.17518361e-01,  1.57210098e-01,\n",
       "         1.18625115e-01],\n",
       "       [-4.84108383e-03,  5.06039273e-02,  2.56273666e-01,\n",
       "         3.84703922e-02,  6.50475496e-02,  3.15872261e-01,\n",
       "        -1.04264618e-01,  6.57233933e-02,  4.22531132e-02,\n",
       "        -2.88054252e-01,  2.36120382e-01, -1.56255783e-02,\n",
       "        -3.08499115e-01, -1.00597125e-01, -1.72264457e-02,\n",
       "        -2.93287983e-01, -2.63398426e-01,  2.51864823e-01,\n",
       "        -6.43058418e-03,  3.19874237e-01,  2.75943072e-01,\n",
       "         3.95822173e-02,  8.01420887e-02, -9.08476215e-03,\n",
       "         4.79867665e-02,  5.69314084e-02, -3.71991007e-01,\n",
       "        -8.68703681e-02, -6.83672542e-02,  4.39377221e-02,\n",
       "        -3.51346417e-02],\n",
       "       [ 6.50009912e-03,  1.24969877e-02,  2.01876125e-01,\n",
       "         4.46844299e-02,  6.78792438e-02,  4.64616241e-02,\n",
       "         2.30005458e-01,  3.87349680e-01,  1.32637847e-01,\n",
       "         1.89570545e-01,  1.06390748e-01, -6.96358074e-02,\n",
       "        -1.65408488e-01, -3.88654619e-02,  5.56877089e-02,\n",
       "         1.49148603e-01,  1.03207129e-02,  1.57777595e-01,\n",
       "        -4.94527095e-01,  1.08360305e-02, -2.40767973e-01,\n",
       "        -1.38036550e-01, -8.07371401e-02, -9.70043761e-02,\n",
       "        -1.01235629e-01, -2.06026671e-01,  1.31173339e-02,\n",
       "         2.18055908e-01, -2.54345228e-01, -2.56766084e-01,\n",
       "        -1.72524501e-01],\n",
       "       [-6.88594292e-03,  5.90545533e-02, -2.07011241e-02,\n",
       "         4.80192215e-02,  1.01522794e-02,  4.44044654e-01,\n",
       "         7.66116608e-03, -1.89733740e-01, -2.45219266e-01,\n",
       "         3.09038402e-02, -3.77436108e-01,  1.19598770e-02,\n",
       "        -1.26141920e-02, -4.43584774e-02,  8.32030503e-02,\n",
       "        -2.00139961e-01,  4.91903153e-01,  1.35322845e-01,\n",
       "        -1.99547389e-01, -4.73405933e-02,  1.45958050e-01,\n",
       "         2.35260247e-02,  5.38979607e-02,  1.25590010e-02,\n",
       "        -6.64619187e-03,  1.63389545e-01,  1.65941776e-01,\n",
       "        -6.68546621e-02, -2.76401728e-01,  5.44873358e-03,\n",
       "        -2.12520491e-01],\n",
       "       [-2.75349185e-03,  5.07891563e-02,  1.08089530e-01,\n",
       "         3.95904764e-02, -1.46360498e-02,  1.17493291e-01,\n",
       "        -2.30759682e-01,  1.28386008e-01,  2.17299938e-01,\n",
       "         7.39505965e-02, -5.18333769e-01,  1.11103952e-01,\n",
       "        -3.33890485e-02,  8.99173425e-03,  4.51716376e-02,\n",
       "        -1.84142320e-02, -1.67886977e-01, -2.50292522e-01,\n",
       "        -6.25487163e-02,  1.13219397e-01,  3.53782637e-01,\n",
       "        -1.66213790e-01, -1.00862417e-01, -1.82407021e-01,\n",
       "        -3.15142865e-01, -4.52267152e-02,  4.96136066e-02,\n",
       "         2.04743734e-01,  1.69597618e-01, -1.39913723e-01,\n",
       "         2.55448214e-01],\n",
       "       [ 7.77998301e-03, -1.50008977e-01, -1.59152972e-01,\n",
       "        -1.13792993e-01, -1.30173978e-01, -2.03117911e-01,\n",
       "         1.70379447e-01,  2.70010606e-01,  3.81111880e-01,\n",
       "        -1.65691481e-01, -3.91197133e-02,  5.51188796e-02,\n",
       "        -3.27687771e-02,  2.39290106e-02,  4.55382377e-02,\n",
       "        -5.83266864e-02,  1.90065826e-01, -1.26034946e-01,\n",
       "        -1.97671940e-01, -1.58541381e-01,  2.67180143e-01,\n",
       "        -8.34598766e-02,  1.85972310e-01, -5.66492787e-02,\n",
       "        -9.03250363e-02,  1.42781922e-01, -1.53347954e-01,\n",
       "        -2.16302398e-01,  1.78353485e-01,  2.60033510e-01,\n",
       "        -4.04957673e-01],\n",
       "       [-1.97073716e-02,  2.09908003e-01, -3.41617578e-02,\n",
       "         2.01233658e-01,  2.51460456e-01,  1.68171613e-01,\n",
       "        -1.63028600e-02, -5.07159027e-03,  2.87418892e-02,\n",
       "        -1.94702559e-01,  4.62989861e-02, -1.24562479e-01,\n",
       "         4.16528128e-02, -9.08413012e-03,  3.13148246e-01,\n",
       "         1.45306166e-01, -1.56106914e-02,  9.23456180e-02,\n",
       "         1.06747906e-01, -2.79918359e-01, -1.22002438e-01,\n",
       "        -2.35215809e-01,  6.59926562e-02, -2.28493742e-01,\n",
       "        -2.86471546e-01, -2.76751162e-01, -3.68342360e-03,\n",
       "        -1.90307542e-01, -8.51800572e-02,  4.36706158e-01,\n",
       "         1.62920272e-01],\n",
       "       [-5.44224782e-03,  1.56773206e-01, -4.00486871e-02,\n",
       "         1.68413120e-01,  2.69145594e-01, -3.54463321e-01,\n",
       "         1.42591317e-02, -2.79739373e-02, -8.70655937e-02,\n",
       "         1.69168737e-01,  8.67795014e-02, -2.31233991e-01,\n",
       "        -9.17744999e-03, -1.45084878e-02,  2.96273515e-01,\n",
       "        -2.28819703e-01,  9.41083798e-02,  5.79429684e-03,\n",
       "         4.69447960e-02,  1.80195394e-01, -5.99708395e-02,\n",
       "        -2.18781792e-01,  5.72505720e-02, -1.89279122e-01,\n",
       "        -1.58722686e-01,  5.04565504e-01, -7.36272293e-02,\n",
       "        -1.07894455e-01,  6.71829959e-02, -2.69313654e-01,\n",
       "         2.66748887e-02],\n",
       "       [-2.04549082e-02, -2.11821385e-01, -2.99317051e-02,\n",
       "        -2.27079273e-01,  4.54996253e-02,  1.60358262e-01,\n",
       "        -2.92092522e-01, -7.19744605e-03,  1.53991624e-01,\n",
       "         5.85033287e-02,  6.28799475e-02, -1.81436577e-01,\n",
       "        -3.86812908e-02, -3.64045783e-01,  4.33949999e-01,\n",
       "         1.39326776e-02,  2.50216687e-01, -1.19490304e-01,\n",
       "         1.58510661e-02,  8.42424600e-02, -9.70826600e-02,\n",
       "        -2.77411371e-02,  8.08808405e-02, -1.05666112e-01,\n",
       "         3.93681440e-01, -2.28506719e-01, -2.55443716e-02,\n",
       "         3.58393052e-02,  2.61323873e-01, -1.11738683e-01,\n",
       "         2.25166004e-02],\n",
       "       [ 9.87091673e-03,  4.60095073e-02,  2.64801220e-01,\n",
       "         1.51222054e-02,  8.73452982e-02, -2.38420108e-02,\n",
       "        -4.76395571e-01,  3.77710617e-02,  2.31546040e-01,\n",
       "        -3.07767610e-02,  1.72565576e-01,  9.05644577e-02,\n",
       "         8.35893816e-02,  1.69586632e-01, -2.70679518e-01,\n",
       "        -9.53708090e-02,  4.51033960e-01, -7.02032509e-02,\n",
       "        -6.48488839e-02, -1.12133933e-01, -2.14213177e-01,\n",
       "         6.48126680e-03, -3.30244412e-01, -1.05441073e-02,\n",
       "        -5.35108242e-02,  1.40127867e-01, -2.20884131e-01,\n",
       "         4.71665440e-02, -3.97409292e-02,  1.25617213e-01,\n",
       "         9.53666792e-02],\n",
       "       [-6.19570677e-03, -7.03943872e-02,  4.36269565e-01,\n",
       "        -7.09634042e-02, -2.16729984e-02, -1.17945821e-01,\n",
       "         2.13187888e-01,  1.27011434e-03, -1.74932967e-02,\n",
       "        -8.50677858e-02, -8.51040051e-02,  8.56605924e-02,\n",
       "         2.12168357e-01, -3.17246026e-01,  2.07916141e-01,\n",
       "        -6.66029744e-02, -1.59332265e-01,  7.10238419e-02,\n",
       "         3.55577784e-02, -9.21936254e-02,  6.91716681e-02,\n",
       "         7.06817993e-03, -5.78095532e-01, -9.44576784e-02,\n",
       "         1.49328216e-01,  1.56936236e-01,  1.91897773e-01,\n",
       "        -1.39729448e-01,  6.87063968e-03,  1.55827542e-01,\n",
       "        -9.27697367e-02],\n",
       "       [-3.19033693e-03,  7.30219736e-02,  9.58907044e-02,\n",
       "         7.48217045e-02,  9.74288040e-02,  6.37413129e-02,\n",
       "        -9.42546640e-02, -1.88862925e-01, -3.13280824e-01,\n",
       "        -1.83311112e-02,  2.86892578e-01, -1.47793165e-01,\n",
       "         4.87612013e-02,  1.53859020e-01,  6.87457904e-02,\n",
       "         5.18522468e-02, -4.89707571e-02, -2.00850815e-01,\n",
       "        -7.44941428e-02, -8.43245699e-02,  2.45408452e-01,\n",
       "        -9.62926943e-02, -1.11968438e-01,  1.49522443e-02,\n",
       "        -9.67987025e-02, -6.96605805e-02,  3.33737058e-02,\n",
       "         4.56817799e-01,  3.05694162e-01,  9.64266753e-02,\n",
       "        -4.70358007e-01],\n",
       "       [-1.02890273e-02, -9.87043219e-02,  1.31128475e-03,\n",
       "        -4.05009427e-02,  9.39647037e-03, -2.00882039e-02,\n",
       "         5.82952700e-02,  3.21062737e-01, -5.79746842e-02,\n",
       "        -5.20047671e-02, -8.47010812e-02, -2.63799753e-01,\n",
       "        -1.15085792e-03,  8.13842226e-02,  1.10258620e-01,\n",
       "        -5.71540677e-02,  3.99380578e-03, -3.88573085e-01,\n",
       "         3.54040783e-01, -4.34554772e-02,  8.95941964e-02,\n",
       "        -5.77684581e-02, -9.47343543e-03,  5.86984409e-02,\n",
       "         1.93293235e-01,  9.11346100e-02, -1.45389941e-01,\n",
       "         2.90302924e-01, -5.63297713e-01,  1.22996111e-01,\n",
       "         2.77511176e-03],\n",
       "       [ 4.23338835e-03,  1.83664583e-01, -9.94415450e-02,\n",
       "         1.17262178e-01, -7.05570410e-02, -6.89400486e-02,\n",
       "         1.02198309e-01, -4.55505273e-02, -8.23499555e-02,\n",
       "        -1.88414913e-02,  1.34601525e-01,  5.61133900e-01,\n",
       "        -2.39385913e-02, -5.16048248e-01,  1.85466929e-02,\n",
       "        -1.61939343e-02,  1.22457873e-01, -1.86159613e-01,\n",
       "         1.07166573e-01, -2.61381098e-03, -7.61777995e-02,\n",
       "         1.58114412e-01,  1.18609952e-01, -2.36463109e-01,\n",
       "        -1.46339946e-01,  1.12249345e-02, -1.85437121e-01,\n",
       "         2.86701322e-01, -1.05286798e-01,  1.31934552e-02,\n",
       "        -3.78821669e-02],\n",
       "       [-1.32609967e-03,  1.85941765e-02, -8.44205892e-02,\n",
       "        -2.74348776e-02,  2.10570998e-01, -2.87610035e-02,\n",
       "        -3.96513463e-01,  9.71797703e-02,  1.86301142e-01,\n",
       "         2.45105281e-02,  2.06705021e-01,  1.73397836e-01,\n",
       "        -5.70916483e-02, -7.21720148e-02, -1.30937229e-01,\n",
       "        -3.10055052e-02, -1.73649844e-01, -1.60095201e-02,\n",
       "         1.29990492e-01,  1.93631301e-02,  8.45810875e-02,\n",
       "        -7.14411165e-02,  1.18022193e-01, -1.17905355e-01,\n",
       "         3.92125093e-02,  4.78715412e-02,  6.24717268e-01,\n",
       "        -1.15867683e-01, -2.63527823e-01, -4.50535742e-02,\n",
       "        -2.80155741e-01],\n",
       "       [ 2.57132397e-03, -1.28713229e-01, -2.48212238e-02,\n",
       "        -1.24670225e-01,  3.61014547e-01, -3.73728324e-02,\n",
       "         2.62695425e-01, -5.50227716e-01,  3.89316679e-01,\n",
       "        -1.59103684e-02, -9.67968041e-02,  5.04119526e-02,\n",
       "        -1.08931750e-02,  1.03485879e-01, -1.55929011e-01,\n",
       "        -8.06656641e-03, -4.94045349e-02,  9.19313644e-02,\n",
       "        -1.86741100e-02, -1.69911968e-02,  3.51569060e-02,\n",
       "        -1.95812320e-01,  3.63471072e-02, -2.43266456e-01,\n",
       "         2.29813188e-01,  1.28603354e-02, -1.00772153e-01,\n",
       "         2.67236886e-01, -1.33749940e-01,  2.78249156e-02,\n",
       "         4.50088389e-03],\n",
       "       [ 1.62387479e-03, -1.31697326e-01, -1.76226344e-02,\n",
       "        -1.15650274e-01,  4.67489167e-01,  6.94828055e-02,\n",
       "         9.86246378e-02,  3.63040016e-01, -4.53345398e-01,\n",
       "        -1.51575933e-02, -1.01343150e-01,  2.13735821e-01,\n",
       "        -9.92569870e-03,  4.19891996e-02, -3.14758068e-01,\n",
       "        -9.31236546e-03,  4.66515008e-02, -8.38246452e-02,\n",
       "        -1.16756996e-02, -1.98911122e-02, -1.21417853e-02,\n",
       "        -1.78796461e-01,  2.14738420e-02, -2.41658719e-01,\n",
       "         2.37323945e-01, -4.07302066e-02, -7.10874335e-02,\n",
       "        -1.42148446e-01,  2.30794105e-01,  2.26958084e-02,\n",
       "         6.00813707e-02],\n",
       "       [-1.89172407e-05,  2.11196846e-01, -6.36250749e-05,\n",
       "         8.43427983e-02, -2.72516694e-01,  1.48003792e-03,\n",
       "        -5.46665580e-03,  4.55413764e-02, -8.88570705e-03,\n",
       "         1.43258073e-03, -6.31229117e-03, -1.92229037e-01,\n",
       "        -5.62497437e-03,  2.63190513e-01, -4.20566818e-02,\n",
       "         9.79583542e-03, -1.53975672e-02,  5.81998541e-03,\n",
       "        -2.90049735e-02, -7.63785602e-03,  1.97579130e-02,\n",
       "         4.12629605e-01, -3.89698820e-04, -7.28678951e-01,\n",
       "         2.38967923e-01, -1.53594058e-03,  4.86951154e-02,\n",
       "        -1.76417406e-02,  2.24734036e-02,  4.92209992e-03,\n",
       "        -2.35628340e-02],\n",
       "       [ 6.85226337e-04,  2.11437101e-01, -1.06165839e-02,\n",
       "         3.83888962e-01, -4.22720808e-01, -3.46386479e-03,\n",
       "        -4.09079834e-02, -1.01122808e-02, -4.11426266e-03,\n",
       "        -7.55714750e-03,  7.33118230e-03,  1.18676842e-01,\n",
       "        -8.69421527e-03, -6.06125687e-03, -8.63645419e-02,\n",
       "         1.67379822e-03,  3.22956126e-03,  1.61202167e-02,\n",
       "        -2.41014722e-02, -5.17711581e-03, -8.39711447e-03,\n",
       "        -6.35679656e-01,  1.72219636e-02,  2.28830657e-02,\n",
       "         4.44873318e-01,  7.41420817e-03, -1.07508140e-04,\n",
       "        -1.26547542e-02,  3.53341030e-02,  1.33523613e-02,\n",
       "         1.15053741e-02]])"
      ]
     },
     "execution_count": 26,
     "metadata": {},
     "output_type": "execute_result"
    }
   ],
   "source": [
    "##Viewing the components\n",
    "pca.components_"
   ]
  },
  {
   "cell_type": "code",
   "execution_count": 27,
   "metadata": {},
   "outputs": [],
   "source": [
    "##Performing PCA on our data selecting 10 components\n",
    "from sklearn.decomposition import PCA\n",
    "pca = PCA(n_components = 10)\n",
    "pca.fit(scaled_breastcancer)\n",
    "pcabreastcancer = pca.transform(scaled_breastcancer)"
   ]
  },
  {
   "cell_type": "code",
   "execution_count": 28,
   "metadata": {},
   "outputs": [
    {
     "data": {
      "text/plain": [
       "Text(0, 0.5, 'explained variance')"
      ]
     },
     "execution_count": 28,
     "metadata": {},
     "output_type": "execute_result"
    },
    {
     "data": {
      "image/png": "[encoded data removed]",
      "text/plain": [
       "<Figure size 432x288 with 1 Axes>"
      ]
     },
     "metadata": {
      "needs_background": "light"
     },
     "output_type": "display_data"
    }
   ],
   "source": [
    "##Scree Plot showing the explained variance ratio.\n",
    "import matplotlib.pyplot as plt\n",
    "index=range(0,10)\n",
    "plt.bar(index,pca.explained_variance_ratio_)\n",
    "plt.xlabel('component', fontsize=15)\n",
    "plt.ylabel('explained variance', fontsize=15)"
   ]
  },
  {
   "cell_type": "code",
   "execution_count": 29,
   "metadata": {},
   "outputs": [
    {
     "data": {
      "text/html": [
       "<div>\n",
       "<style scoped>\n",
       "    .dataframe tbody tr th:only-of-type {\n",
       "        vertical-align: middle;\n",
       "    }\n",
       "\n",
       "    .dataframe tbody tr th {\n",
       "        vertical-align: top;\n",
       "    }\n",
       "\n",
       "    .dataframe thead th {\n",
       "        text-align: right;\n",
       "    }\n",
       "</style>\n",
       "<table border=\"1\" class=\"dataframe\">\n",
       "  <thead>\n",
       "    <tr style=\"text-align: right;\">\n",
       "      <th></th>\n",
       "      <th>Component 1</th>\n",
       "      <th>Component 2</th>\n",
       "      <th>Component 3</th>\n",
       "      <th>Component 4</th>\n",
       "      <th>Component 5</th>\n",
       "      <th>Component 6</th>\n",
       "      <th>Component 7</th>\n",
       "      <th>Component 8</th>\n",
       "      <th>Component 9</th>\n",
       "      <th>Component 10</th>\n",
       "    </tr>\n",
       "  </thead>\n",
       "  <tbody>\n",
       "    <tr>\n",
       "      <th>0</th>\n",
       "      <td>9.183200</td>\n",
       "      <td>1.971271</td>\n",
       "      <td>-1.171625</td>\n",
       "      <td>3.639332</td>\n",
       "      <td>-1.193098</td>\n",
       "      <td>-1.372280</td>\n",
       "      <td>0.371844</td>\n",
       "      <td>2.180529</td>\n",
       "      <td>-0.231611</td>\n",
       "      <td>-0.090401</td>\n",
       "    </tr>\n",
       "    <tr>\n",
       "      <th>1</th>\n",
       "      <td>2.383298</td>\n",
       "      <td>-3.753459</td>\n",
       "      <td>-0.580229</td>\n",
       "      <td>1.127438</td>\n",
       "      <td>0.624850</td>\n",
       "      <td>-0.126616</td>\n",
       "      <td>-0.288270</td>\n",
       "      <td>0.044935</td>\n",
       "      <td>0.426916</td>\n",
       "      <td>-0.659941</td>\n",
       "    </tr>\n",
       "    <tr>\n",
       "      <th>2</th>\n",
       "      <td>5.742472</td>\n",
       "      <td>-1.080350</td>\n",
       "      <td>-0.533088</td>\n",
       "      <td>0.903470</td>\n",
       "      <td>-0.180601</td>\n",
       "      <td>-0.401855</td>\n",
       "      <td>0.463188</td>\n",
       "      <td>-0.715208</td>\n",
       "      <td>-0.010712</td>\n",
       "      <td>-0.082298</td>\n",
       "    </tr>\n",
       "    <tr>\n",
       "      <th>3</th>\n",
       "      <td>7.124384</td>\n",
       "      <td>10.272225</td>\n",
       "      <td>-3.150161</td>\n",
       "      <td>0.121512</td>\n",
       "      <td>-2.968055</td>\n",
       "      <td>-2.561668</td>\n",
       "      <td>1.950177</td>\n",
       "      <td>1.287990</td>\n",
       "      <td>1.272640</td>\n",
       "      <td>-1.171360</td>\n",
       "    </tr>\n",
       "    <tr>\n",
       "      <th>4</th>\n",
       "      <td>3.945694</td>\n",
       "      <td>-1.959689</td>\n",
       "      <td>1.401177</td>\n",
       "      <td>2.937555</td>\n",
       "      <td>0.540853</td>\n",
       "      <td>1.233300</td>\n",
       "      <td>-0.205435</td>\n",
       "      <td>-0.959329</td>\n",
       "      <td>0.629119</td>\n",
       "      <td>-0.166351</td>\n",
       "    </tr>\n",
       "    <tr>\n",
       "      <th>...</th>\n",
       "      <td>...</td>\n",
       "      <td>...</td>\n",
       "      <td>...</td>\n",
       "      <td>...</td>\n",
       "      <td>...</td>\n",
       "      <td>...</td>\n",
       "      <td>...</td>\n",
       "      <td>...</td>\n",
       "      <td>...</td>\n",
       "      <td>...</td>\n",
       "    </tr>\n",
       "    <tr>\n",
       "      <th>564</th>\n",
       "      <td>6.435329</td>\n",
       "      <td>-3.565358</td>\n",
       "      <td>2.399112</td>\n",
       "      <td>1.197814</td>\n",
       "      <td>-0.071089</td>\n",
       "      <td>2.028789</td>\n",
       "      <td>-1.345195</td>\n",
       "      <td>-0.522454</td>\n",
       "      <td>-0.184011</td>\n",
       "      <td>1.045683</td>\n",
       "    </tr>\n",
       "    <tr>\n",
       "      <th>565</th>\n",
       "      <td>3.789458</td>\n",
       "      <td>-3.573419</td>\n",
       "      <td>2.029505</td>\n",
       "      <td>-2.478688</td>\n",
       "      <td>-0.498521</td>\n",
       "      <td>-0.080422</td>\n",
       "      <td>-1.024112</td>\n",
       "      <td>-0.585571</td>\n",
       "      <td>-0.949736</td>\n",
       "      <td>-0.258742</td>\n",
       "    </tr>\n",
       "    <tr>\n",
       "      <th>566</th>\n",
       "      <td>1.251890</td>\n",
       "      <td>-1.893977</td>\n",
       "      <td>0.534467</td>\n",
       "      <td>-2.077633</td>\n",
       "      <td>1.814829</td>\n",
       "      <td>0.394713</td>\n",
       "      <td>-0.437806</td>\n",
       "      <td>-0.178668</td>\n",
       "      <td>0.262115</td>\n",
       "      <td>0.475977</td>\n",
       "    </tr>\n",
       "    <tr>\n",
       "      <th>567</th>\n",
       "      <td>10.365035</td>\n",
       "      <td>1.696398</td>\n",
       "      <td>-1.907418</td>\n",
       "      <td>-2.351807</td>\n",
       "      <td>-0.028220</td>\n",
       "      <td>-0.656720</td>\n",
       "      <td>-0.195264</td>\n",
       "      <td>0.275202</td>\n",
       "      <td>-0.072776</td>\n",
       "      <td>-0.518176</td>\n",
       "    </tr>\n",
       "    <tr>\n",
       "      <th>568</th>\n",
       "      <td>-5.478264</td>\n",
       "      <td>-0.672788</td>\n",
       "      <td>1.477165</td>\n",
       "      <td>-2.285042</td>\n",
       "      <td>-0.176874</td>\n",
       "      <td>-1.572076</td>\n",
       "      <td>0.600340</td>\n",
       "      <td>1.635591</td>\n",
       "      <td>0.969460</td>\n",
       "      <td>0.677732</td>\n",
       "    </tr>\n",
       "  </tbody>\n",
       "</table>\n",
       "<p>569 rows × 10 columns</p>\n",
       "</div>"
      ],
      "text/plain": [
       "     Component 1  Component 2  Component 3  Component 4  Component 5  \\\n",
       "0       9.183200     1.971271    -1.171625     3.639332    -1.193098   \n",
       "1       2.383298    -3.753459    -0.580229     1.127438     0.624850   \n",
       "2       5.742472    -1.080350    -0.533088     0.903470    -0.180601   \n",
       "3       7.124384    10.272225    -3.150161     0.121512    -2.968055   \n",
       "4       3.945694    -1.959689     1.401177     2.937555     0.540853   \n",
       "..           ...          ...          ...          ...          ...   \n",
       "564     6.435329    -3.565358     2.399112     1.197814    -0.071089   \n",
       "565     3.789458    -3.573419     2.029505    -2.478688    -0.498521   \n",
       "566     1.251890    -1.893977     0.534467    -2.077633     1.814829   \n",
       "567    10.365035     1.696398    -1.907418    -2.351807    -0.028220   \n",
       "568    -5.478264    -0.672788     1.477165    -2.285042    -0.176874   \n",
       "\n",
       "     Component 6  Component 7  Component 8  Component 9  Component 10  \n",
       "0      -1.372280     0.371844     2.180529    -0.231611     -0.090401  \n",
       "1      -0.126616    -0.288270     0.044935     0.426916     -0.659941  \n",
       "2      -0.401855     0.463188    -0.715208    -0.010712     -0.082298  \n",
       "3      -2.561668     1.950177     1.287990     1.272640     -1.171360  \n",
       "4       1.233300    -0.205435    -0.959329     0.629119     -0.166351  \n",
       "..           ...          ...          ...          ...           ...  \n",
       "564     2.028789    -1.345195    -0.522454    -0.184011      1.045683  \n",
       "565    -0.080422    -1.024112    -0.585571    -0.949736     -0.258742  \n",
       "566     0.394713    -0.437806    -0.178668     0.262115      0.475977  \n",
       "567    -0.656720    -0.195264     0.275202    -0.072776     -0.518176  \n",
       "568    -1.572076     0.600340     1.635591     0.969460      0.677732  \n",
       "\n",
       "[569 rows x 10 columns]"
      ]
     },
     "execution_count": 29,
     "metadata": {},
     "output_type": "execute_result"
    }
   ],
   "source": [
    "##Data after carrying out PCA  and selecting 10 components\n",
    "import pandas as pd\n",
    "\n",
    "breastcancerpca = pd.DataFrame(data = pcabreastcancer, columns = ['Component 1','Component 2','Component 3','Component 4','Component 5',\n",
    "                                                      'Component 6','Component 7','Component 8','Component 9','Component 10'])\n",
    "\n",
    "\n",
    "breastcancerpca"
   ]
  },
  {
   "cell_type": "markdown",
   "metadata": {},
   "source": [
    "## Model Building with Original Data.\n",
    "We will be building with our original unscaled data to compare results with our scaled data"
   ]
  },
  {
   "cell_type": "markdown",
   "metadata": {},
   "source": [
    "## KNN Classifier"
   ]
  },
  {
   "cell_type": "code",
   "execution_count": 30,
   "metadata": {},
   "outputs": [
    {
     "name": "stdout",
     "output_type": "stream",
     "text": [
      "Train accuracy is 0.9014084507042254\n",
      "Test accuracy is 0.8741258741258742\n"
     ]
    }
   ],
   "source": [
    "# KNeighborsClassifier\n",
    "from sklearn.neighbors import KNeighborsClassifier\n",
    "from sklearn.model_selection import train_test_split\n",
    "\n",
    "X_train,X_test,y_train,y_test = train_test_split(X,y, random_state = 0)\n",
    "neigh = KNeighborsClassifier(n_neighbors = 2)\n",
    "neigh.fit(X,y)\n",
    "print(f\"Train accuracy is {neigh.score(X_train,y_train)}\")\n",
    "print(f\"Test accuracy is {neigh.score(X_test,y_test)}\")\n"
   ]
  },
  {
   "cell_type": "markdown",
   "metadata": {},
   "source": [
    "## Logisitic Regression"
   ]
  },
  {
   "cell_type": "code",
   "execution_count": 31,
   "metadata": {},
   "outputs": [
    {
     "name": "stdout",
     "output_type": "stream",
     "text": [
      "Train accuracy is 0.38028169014084506\n",
      "Test accuracy is 0.3706293706293706\n"
     ]
    },
    {
     "name": "stderr",
     "output_type": "stream",
     "text": [
      "C:\\Python\\envs\\ML Project\\lib\\site-packages\\sklearn\\linear_model\\logistic.py:432: FutureWarning: Default solver will be changed to 'lbfgs' in 0.22. Specify a solver to silence this warning.\n",
      "  FutureWarning)\n"
     ]
    }
   ],
   "source": [
    "# LogisticRegression\n",
    "from sklearn.linear_model import LogisticRegression\n",
    "from sklearn.model_selection import train_test_split\n",
    "\n",
    "target = data.pop('diagnosis')\n",
    "\n",
    "X_train,X_test,y_train,y_test = train_test_split(X,y, random_state = 0)\n",
    "\n",
    "log = LogisticRegression()\n",
    "log.fit(X,y)\n",
    "\n",
    "print(f\"Train accuracy is {log.score(X_train,y_train)}\")\n",
    "print(f\"Test accuracy is {log.score(X_test,y_test)}\")"
   ]
  },
  {
   "cell_type": "markdown",
   "metadata": {},
   "source": [
    "## Decision Tree"
   ]
  },
  {
   "cell_type": "code",
   "execution_count": 33,
   "metadata": {},
   "outputs": [
    {
     "name": "stdout",
     "output_type": "stream",
     "text": [
      "Train accuracy is 1.0\n",
      "Test accuracy is 1.0\n"
     ]
    }
   ],
   "source": [
    "# Decision tree\n",
    "from sklearn.tree import DecisionTreeClassifier\n",
    "\n",
    "#target = data.pop('diagnosis')\n",
    "\n",
    "X_train,X_test,y_train,y_test = train_test_split(X,y, random_state = 0)\n",
    "\n",
    "tree = DecisionTreeClassifier(random_state = 0)\n",
    "tree.fit(X,y)\n",
    "\n",
    "print(f\"Train accuracy is {tree.score(X_train,y_train)}\")\n",
    "print(f\"Test accuracy is {tree.score(X_test,y_test)}\")"
   ]
  },
  {
   "cell_type": "markdown",
   "metadata": {},
   "source": [
    "## Gradient Boosting Classifier"
   ]
  },
  {
   "cell_type": "code",
   "execution_count": 34,
   "metadata": {},
   "outputs": [
    {
     "name": "stdout",
     "output_type": "stream",
     "text": [
      "Learning rate:  0.05\n",
      "Accuracy score (training): 0.960\n",
      "Accuracy score (test): 0.930\n",
      "Learning rate:  0.075\n",
      "Accuracy score (training): 0.965\n",
      "Accuracy score (test): 0.923\n",
      "Learning rate:  0.1\n",
      "Accuracy score (training): 0.969\n",
      "Accuracy score (test): 0.916\n",
      "Learning rate:  0.25\n",
      "Accuracy score (training): 0.988\n",
      "Accuracy score (test): 0.944\n",
      "Learning rate:  0.5\n",
      "Accuracy score (training): 0.995\n",
      "Accuracy score (test): 0.937\n",
      "Learning rate:  0.75\n",
      "Accuracy score (training): 1.000\n",
      "Accuracy score (test): 0.965\n",
      "Learning rate:  1\n",
      "Accuracy score (training): 1.000\n",
      "Accuracy score (test): 0.944\n"
     ]
    }
   ],
   "source": [
    "## Applying the Gradient bossting Classifier\n",
    "from sklearn.metrics import classification_report, confusion_matrix\n",
    "from sklearn.ensemble import GradientBoostingClassifier\n",
    "lr_list = [0.05, 0.075, 0.1, 0.25, 0.5, 0.75, 1]\n",
    "\n",
    "for learning_rate in lr_list:\n",
    "    gb_clf = GradientBoostingClassifier(n_estimators=20, learning_rate=learning_rate, max_features=2, max_depth=2, random_state=0)\n",
    "    gb_clf.fit(X_train, y_train)\n",
    "\n",
    "    print(\"Learning rate: \", learning_rate)\n",
    "    print(\"Accuracy score (training): {0:.3f}\".format(gb_clf.score(X_train, y_train)))\n",
    "    print(\"Accuracy score (test): {0:.3f}\".format(gb_clf.score(X_test, y_test)))"
   ]
  },
  {
   "cell_type": "markdown",
   "metadata": {},
   "source": [
    "## Random Forest Classifier"
   ]
  },
  {
   "cell_type": "code",
   "execution_count": 37,
   "metadata": {},
   "outputs": [
    {
     "name": "stdout",
     "output_type": "stream",
     "text": [
      "[0.00034581 0.05148847 0.00831178 0.06106987 0.04086179 0.0013662\n",
      " 0.00936244 0.06375836 0.06446176 0.00085219 0.00109958 0.00563944\n",
      " 0.00307386 0.01230112 0.05114574 0.         0.00233901 0.00116125\n",
      " 0.00369087 0.00041549 0.00121438 0.15571242 0.00519152 0.14914213\n",
      " 0.09951512 0.00679671 0.02461087 0.02801948 0.13823201 0.00780278\n",
      " 0.00101756]\n",
      "Accuracy score (training): 0.960\n",
      "Accuracy score (test): 0.972\n"
     ]
    }
   ],
   "source": [
    "##Applying the Random Forest Classifier\n",
    "from sklearn.ensemble import RandomForestClassifier\n",
    "rfc = RandomForestClassifier(n_estimators=100, max_depth=2, random_state=0)\n",
    "rfc.fit(X_train, y_train)\n",
    "print(rfc.feature_importances_)\n",
    "print(\"Accuracy score (training): {0:.3f}\".format(rfc.score(X_train, y_train)))\n",
    "print(\"Accuracy score (test): {0:.3f}\".format(rfc.score(X_test, y_test)))"
   ]
  },
  {
   "cell_type": "markdown",
   "metadata": {},
   "source": [
    "With the exception of the Random Forest Classifier, all other models seem to perform significantly worse on the the training set. Lets proceed to apply our models to our data after feature selection using PCA."
   ]
  },
  {
   "cell_type": "markdown",
   "metadata": {},
   "source": [
    "## Model Building After Principal Component Analysis"
   ]
  },
  {
   "cell_type": "code",
   "execution_count": 39,
   "metadata": {},
   "outputs": [],
   "source": [
    "##Splitting our data into training and test sets\n",
    "X_train, X_test, y_train, y_test = train_test_split(breastcancerpca, target, stratify = target, random_state=66)"
   ]
  },
  {
   "cell_type": "markdown",
   "metadata": {},
   "source": [
    "## KNN Classifier"
   ]
  },
  {
   "cell_type": "code",
   "execution_count": 40,
   "metadata": {},
   "outputs": [
    {
     "name": "stdout",
     "output_type": "stream",
     "text": [
      "Train accuracy is 0.9671361502347418\n",
      "Test accuracy is 0.951048951048951\n"
     ]
    },
    {
     "data": {
      "text/plain": [
       "<matplotlib.legend.Legend at 0x2426dba3e88>"
      ]
     },
     "execution_count": 40,
     "metadata": {},
     "output_type": "execute_result"
    },
    {
     "data": {
      "image/png": "[encoded data removed]",
      "text/plain": [
       "<Figure size 432x288 with 1 Axes>"
      ]
     },
     "metadata": {
      "needs_background": "light"
     },
     "output_type": "display_data"
    }
   ],
   "source": [
    "#Comparing different n_neighbors using train and test accuracy for pca data. \n",
    "from sklearn.model_selection import train_test_split\n",
    "\n",
    "X_train, X_test, y_train, y_test = train_test_split(\n",
    "breastcancerpca, target, stratify = target, random_state=66)\n",
    "\n",
    "training_accuracy = []\n",
    "test_accuracy = []\n",
    "\n",
    "neighbors = range(1, 11)\n",
    "\n",
    "for n_neighbors in neighbors:\n",
    "    neigh = KNeighborsClassifier(n_neighbors=n_neighbors)\n",
    "    neigh.fit(X_train, y_train)\n",
    "    training_accuracy.append(neigh.score(X_train, y_train))\n",
    "    test_accuracy.append(neigh.score(X_test, y_test))\n",
    "print(f\"Train accuracy is {neigh.score(X_train,y_train)}\")\n",
    "print(f\"Test accuracy is {neigh.score(X_test,y_test)}\")\n",
    "\n",
    "# Plotting\n",
    "plt.plot(neighbors, training_accuracy, label=\"training accuracy\")\n",
    "plt.plot(neighbors, test_accuracy, label=\"test accuracy\")\n",
    "plt.title(\"Comparing different neighbors and selecting the appropriate k number\")\n",
    "plt.ylabel(\"Accuracy\")\n",
    "plt.xlabel(\"n_neighbors\")\n",
    "plt.legend()\n"
   ]
  },
  {
   "cell_type": "markdown",
   "metadata": {},
   "source": [
    "## Logisitic Regression"
   ]
  },
  {
   "cell_type": "code",
   "execution_count": 41,
   "metadata": {},
   "outputs": [
    {
     "name": "stdout",
     "output_type": "stream",
     "text": [
      "Training set score: 0.988\n",
      "Test set score: 0.979\n"
     ]
    },
    {
     "name": "stderr",
     "output_type": "stream",
     "text": [
      "C:\\Python\\envs\\ML Project\\lib\\site-packages\\sklearn\\linear_model\\logistic.py:432: FutureWarning: Default solver will be changed to 'lbfgs' in 0.22. Specify a solver to silence this warning.\n",
      "  FutureWarning)\n"
     ]
    }
   ],
   "source": [
    "# Logistic regression for pca data.\n",
    "from sklearn.linear_model import LogisticRegression\n",
    "X_train, X_test, y_train, y_test = train_test_split(\n",
    "breastcancerpca, y, stratify = y, random_state=42)\n",
    "\n",
    "log = LogisticRegression(penalty = 'l2')\n",
    "log.fit(X_train, y_train)\n",
    "\n",
    "print(\"Training set score: {:.3f}\".format(log.score(X_train, y_train)))\n",
    "print(\"Test set score: {:.3f}\".format(log.score(X_test, y_test)))\n"
   ]
  },
  {
   "cell_type": "markdown",
   "metadata": {},
   "source": [
    "## Decision Tree Classifier"
   ]
  },
  {
   "cell_type": "code",
   "execution_count": 42,
   "metadata": {},
   "outputs": [
    {
     "name": "stdout",
     "output_type": "stream",
     "text": [
      "Accuracy on training set: 0.979\n",
      "Accuracy on test set: 0.965\n"
     ]
    }
   ],
   "source": [
    "# Decision tree classfier for pca data\n",
    "from sklearn.tree import DecisionTreeClassifier\n",
    "\n",
    "X_train, X_test, y_train, y_test = train_test_split(\n",
    "breastcancerpca, y, stratify=y, random_state=42)\n",
    "\n",
    "tree = DecisionTreeClassifier(random_state=0,max_depth=4)\n",
    "tree.fit(X_train, y_train)\n",
    "print(\"Accuracy on training set: {:.3f}\".format(tree.score(X_train, y_train)))\n",
    "print(\"Accuracy on test set: {:.3f}\".format(tree.score(X_test, y_test)))"
   ]
  },
  {
   "cell_type": "markdown",
   "metadata": {},
   "source": [
    "## Gradient Boosting Classifier\n"
   ]
  },
  {
   "cell_type": "code",
   "execution_count": 43,
   "metadata": {},
   "outputs": [
    {
     "name": "stdout",
     "output_type": "stream",
     "text": [
      "Learning rate:  0.05\n",
      "Accuracy score (training): 0.805\n",
      "Accuracy score (test): 0.769\n",
      "Learning rate:  0.075\n",
      "Accuracy score (training): 0.899\n",
      "Accuracy score (test): 0.860\n",
      "Learning rate:  0.1\n",
      "Accuracy score (training): 0.923\n",
      "Accuracy score (test): 0.881\n",
      "Learning rate:  0.25\n",
      "Accuracy score (training): 0.967\n",
      "Accuracy score (test): 0.923\n",
      "Learning rate:  0.5\n",
      "Accuracy score (training): 0.984\n",
      "Accuracy score (test): 0.951\n",
      "Learning rate:  0.75\n",
      "Accuracy score (training): 0.995\n",
      "Accuracy score (test): 0.958\n",
      "Learning rate:  1\n",
      "Accuracy score (training): 0.998\n",
      "Accuracy score (test): 0.902\n"
     ]
    }
   ],
   "source": [
    "## Applying the Gradient bossting Classifier for PCA data\n",
    "from sklearn.metrics import classification_report, confusion_matrix\n",
    "from sklearn.ensemble import GradientBoostingClassifier\n",
    "lr_list = [0.05, 0.075, 0.1, 0.25, 0.5, 0.75, 1]\n",
    "\n",
    "for learning_rate in lr_list:\n",
    "    gb_clf = GradientBoostingClassifier(n_estimators=20, learning_rate=learning_rate, max_features=2, max_depth=2, random_state=0)\n",
    "    gb_clf.fit(X_train, y_train)\n",
    "\n",
    "    print(\"Learning rate: \", learning_rate)\n",
    "    print(\"Accuracy score (training): {0:.3f}\".format(gb_clf.score(X_train, y_train)))\n",
    "    print(\"Accuracy score (test): {0:.3f}\".format(gb_clf.score(X_test, y_test)))"
   ]
  },
  {
   "cell_type": "markdown",
   "metadata": {},
   "source": [
    "## Random Forest Classifier"
   ]
  },
  {
   "cell_type": "code",
   "execution_count": 46,
   "metadata": {},
   "outputs": [
    {
     "name": "stdout",
     "output_type": "stream",
     "text": [
      "[0.45896527 0.14571259 0.15778374 0.03706174 0.03433984 0.02147756\n",
      " 0.03556569 0.06489433 0.01786812 0.02633112]\n",
      "Accuracy score (training): 0.948\n",
      "Accuracy score (test): 0.930\n"
     ]
    }
   ],
   "source": [
    "##Applying the Random Forest Classifier for PCA data\n",
    "from sklearn.ensemble import RandomForestClassifier\n",
    "rfc = RandomForestClassifier(n_estimators=100, max_depth=2, random_state=0)\n",
    "rfc.fit(X_train, y_train)\n",
    "print(rfc.feature_importances_)\n",
    "print(\"Accuracy score (training): {0:.3f}\".format(rfc.score(X_train, y_train)))\n",
    "print(\"Accuracy score (test): {0:.3f}\".format(rfc.score(X_test, y_test)))"
   ]
  },
  {
   "cell_type": "markdown",
   "metadata": {},
   "source": [
    "As seen here, we obtain better results after performing feature selection with PCA. We will now go ahead to explore other metrics and choose which is best for predicting our target varaible."
   ]
  },
  {
   "cell_type": "markdown",
   "metadata": {},
   "source": [
    "## Model Evaluation"
   ]
  },
  {
   "cell_type": "markdown",
   "metadata": {},
   "source": [
    "## KNN Classifier"
   ]
  },
  {
   "cell_type": "code",
   "execution_count": 47,
   "metadata": {},
   "outputs": [
    {
     "data": {
      "text/plain": [
       "array([[89,  1],\n",
       "       [ 6, 47]], dtype=int64)"
      ]
     },
     "execution_count": 47,
     "metadata": {},
     "output_type": "execute_result"
    }
   ],
   "source": [
    "##Evaluation metrics for KNN for PCA data\n",
    "from sklearn.metrics import confusion_matrix\n",
    "y_pred4 = neigh.predict(X_test)\n",
    "confusion_matrix(y_test, y_pred4)"
   ]
  },
  {
   "cell_type": "code",
   "execution_count": 70,
   "metadata": {},
   "outputs": [
    {
     "data": {
      "image/png": "[encoded data removed]",
      "text/plain": [
       "<Figure size 288x288 with 2 Axes>"
      ]
     },
     "metadata": {
      "needs_background": "light"
     },
     "output_type": "display_data"
    }
   ],
   "source": [
    "##Confusion matrix for Random Forest Classifier\n",
    "from sklearn.metrics import confusion_matrix\n",
    "y_pred3 = rfc.predict(X_test)\n",
    "confusion_matrix(y_test, y_pred4)\n",
    "import matplotlib.pyplot as plt\n",
    "plt.matshow(confusion_matrix(y_test, y_pred4))\n",
    "plt.title('Confusion matrix\\n')\n",
    "plt.colorbar()\n",
    "plt.ylabel('True label')\n",
    "plt.xlabel('\\nPredicted label')\n",
    "plt.show()"
   ]
  },
  {
   "cell_type": "code",
   "execution_count": 48,
   "metadata": {},
   "outputs": [
    {
     "name": "stdout",
     "output_type": "stream",
     "text": [
      "Precision is 0.9791666666666666\n"
     ]
    }
   ],
   "source": [
    "##Precision Score for KNN\n",
    "from sklearn.metrics import precision_score  \n",
    "print(\"Precision is {}\".format(precision_score(y_test, y_pred4, pos_label='M')))"
   ]
  },
  {
   "cell_type": "code",
   "execution_count": 49,
   "metadata": {},
   "outputs": [
    {
     "name": "stdout",
     "output_type": "stream",
     "text": [
      "Recall is 0.8867924528301887\n"
     ]
    }
   ],
   "source": [
    "##Recall Score for KNN\n",
    "from sklearn.metrics import recall_score  \n",
    "print(\"Recall is {}\".format(recall_score(y_test, y_pred4,pos_label='M' )))"
   ]
  },
  {
   "cell_type": "code",
   "execution_count": 50,
   "metadata": {},
   "outputs": [
    {
     "name": "stdout",
     "output_type": "stream",
     "text": [
      "F1 score is 0.9306930693069307\n"
     ]
    }
   ],
   "source": [
    "##F1 Score for KNN\n",
    "from sklearn.metrics import f1_score  \n",
    "\n",
    "print(\"F1 score is {}\".format(f1_score(y_test, y_pred4, pos_label='M')))"
   ]
  },
  {
   "cell_type": "markdown",
   "metadata": {},
   "source": [
    "## Logistic Regression"
   ]
  },
  {
   "cell_type": "code",
   "execution_count": 51,
   "metadata": {},
   "outputs": [
    {
     "data": {
      "text/plain": [
       "array([[90,  0],\n",
       "       [ 3, 50]], dtype=int64)"
      ]
     },
     "execution_count": 51,
     "metadata": {},
     "output_type": "execute_result"
    }
   ],
   "source": [
    "##Evaluation metrics using Logistic Regression for PCA Data\n",
    "from sklearn.metrics import confusion_matrix\n",
    "y_pred = log.predict(X_test)\n",
    "confusion_matrix(y_test, y_pred)"
   ]
  },
  {
   "cell_type": "code",
   "execution_count": 52,
   "metadata": {},
   "outputs": [
    {
     "data": {
      "image/png": "[encoded data removed]",
      "text/plain": [
       "<Figure size 288x288 with 2 Axes>"
      ]
     },
     "metadata": {
      "needs_background": "light"
     },
     "output_type": "display_data"
    }
   ],
   "source": [
    "##Plot of the confusion matrix\n",
    "plt.matshow(confusion_matrix(y_test, y_pred4))\n",
    "plt.title('Confusion matrix\\n')\n",
    "plt.colorbar()\n",
    "plt.ylabel('True label')\n",
    "plt.xlabel('\\nPredicted label')\n",
    "plt.show()"
   ]
  },
  {
   "cell_type": "code",
   "execution_count": 53,
   "metadata": {},
   "outputs": [
    {
     "name": "stdout",
     "output_type": "stream",
     "text": [
      "Precision is 1.0\n"
     ]
    }
   ],
   "source": [
    "##Precision Score for Logisitic Regression \n",
    "from sklearn.metrics import precision_score  \n",
    "print(\"Precision is {}\".format(precision_score(y_test, y_pred, pos_label='M')))"
   ]
  },
  {
   "cell_type": "code",
   "execution_count": 54,
   "metadata": {},
   "outputs": [
    {
     "name": "stdout",
     "output_type": "stream",
     "text": [
      "Recall is 0.9433962264150944\n"
     ]
    }
   ],
   "source": [
    "##Recall Score for Logistic Regression\n",
    "from sklearn.metrics import recall_score  \n",
    "print(\"Recall is {}\".format(recall_score(y_test, y_pred,pos_label='M' )))"
   ]
  },
  {
   "cell_type": "code",
   "execution_count": 55,
   "metadata": {},
   "outputs": [
    {
     "name": "stdout",
     "output_type": "stream",
     "text": [
      "F1 score is 0.970873786407767\n"
     ]
    }
   ],
   "source": [
    "##F1 score for Logisitic Regression\n",
    "from sklearn.metrics import f1_score  \n",
    "\n",
    "print(\"F1 score is {}\".format(f1_score(y_test, y_pred, pos_label='M')))"
   ]
  },
  {
   "cell_type": "markdown",
   "metadata": {},
   "source": [
    "## Decision Tree Classifier"
   ]
  },
  {
   "cell_type": "code",
   "execution_count": 71,
   "metadata": {},
   "outputs": [
    {
     "name": "stdout",
     "output_type": "stream",
     "text": [
      "[[88  2]\n",
      " [ 3 50]]\n"
     ]
    },
    {
     "data": {
      "image/png": "[encoded data removed]",
      "text/plain": [
       "<Figure size 288x288 with 2 Axes>"
      ]
     },
     "metadata": {
      "needs_background": "light"
     },
     "output_type": "display_data"
    }
   ],
   "source": [
    "##Confusion Matrix for Decision Tree\n",
    "from sklearn.metrics import confusion_matrix\n",
    "y_pred1 = tree.predict(X_test)\n",
    "print(confusion_matrix(y_test, y_pred1))\n",
    "\n",
    "import matplotlib.pyplot as plt\n",
    "plt.matshow(confusion_matrix(y_test, y_pred1))\n",
    "plt.title('Confusion matrix\\n')\n",
    "plt.colorbar()\n",
    "plt.ylabel('True label')\n",
    "plt.xlabel('\\nPredicted label')\n",
    "plt.show()"
   ]
  },
  {
   "cell_type": "code",
   "execution_count": 57,
   "metadata": {},
   "outputs": [
    {
     "name": "stdout",
     "output_type": "stream",
     "text": [
      "Precision is 0.9615384615384616\n"
     ]
    }
   ],
   "source": [
    "##Precision score for decision tree\n",
    "from sklearn.metrics import precision_score  \n",
    "print(\"Precision is {}\".format(precision_score(y_test, y_pred1, pos_label='M')))"
   ]
  },
  {
   "cell_type": "code",
   "execution_count": 58,
   "metadata": {},
   "outputs": [
    {
     "name": "stdout",
     "output_type": "stream",
     "text": [
      "Recall is 0.9433962264150944\n"
     ]
    }
   ],
   "source": [
    "##Recall Score for Decision tree\n",
    "from sklearn.metrics import recall_score  \n",
    "print(\"Recall is {}\".format(recall_score(y_test, y_pred1,pos_label='M' )))"
   ]
  },
  {
   "cell_type": "code",
   "execution_count": 59,
   "metadata": {},
   "outputs": [
    {
     "name": "stdout",
     "output_type": "stream",
     "text": [
      "F1 score is 0.9523809523809524\n"
     ]
    }
   ],
   "source": [
    "##F1 score for Decision tree\n",
    "from sklearn.metrics import f1_score  \n",
    "print(\"F1 score is {}\".format(f1_score(y_test, y_pred1, pos_label='M')))"
   ]
  },
  {
   "cell_type": "markdown",
   "metadata": {},
   "source": [
    "## Gradient Boosting Classifier "
   ]
  },
  {
   "cell_type": "code",
   "execution_count": 72,
   "metadata": {},
   "outputs": [
    {
     "name": "stdout",
     "output_type": "stream",
     "text": [
      "[[86  4]\n",
      " [10 43]]\n"
     ]
    },
    {
     "data": {
      "image/png": "[encoded data removed]",
      "text/plain": [
       "<Figure size 288x288 with 2 Axes>"
      ]
     },
     "metadata": {
      "needs_background": "light"
     },
     "output_type": "display_data"
    }
   ],
   "source": [
    "##Confusion matrix for Gradient Boosting Algorithm\n",
    "from sklearn.metrics import confusion_matrix\n",
    "y_pred2 = gb_clf.predict(X_test)\n",
    "print(confusion_matrix(y_test, y_pred2))\n",
    "import matplotlib.pyplot as plt\n",
    "plt.matshow(confusion_matrix(y_test, y_pred2))\n",
    "plt.title('Confusion matrix\\n')\n",
    "plt.colorbar()\n",
    "plt.ylabel('True label')\n",
    "plt.xlabel('\\nPredicted label')\n",
    "plt.show()"
   ]
  },
  {
   "cell_type": "code",
   "execution_count": 61,
   "metadata": {},
   "outputs": [
    {
     "name": "stdout",
     "output_type": "stream",
     "text": [
      "Precision is 0.9148936170212766\n"
     ]
    }
   ],
   "source": [
    "##Precision score for Gradient Boosting\n",
    "from sklearn.metrics import precision_score  \n",
    "print(\"Precision is {}\".format(precision_score(y_test, y_pred2, pos_label='M')))"
   ]
  },
  {
   "cell_type": "code",
   "execution_count": 62,
   "metadata": {},
   "outputs": [
    {
     "name": "stdout",
     "output_type": "stream",
     "text": [
      "Recall is 0.8113207547169812\n"
     ]
    }
   ],
   "source": [
    "##Recall score for Gradient Bossting\n",
    "from sklearn.metrics import recall_score  \n",
    "print(\"Recall is {}\".format(recall_score(y_test, y_pred2, pos_label='M')))"
   ]
  },
  {
   "cell_type": "code",
   "execution_count": 64,
   "metadata": {},
   "outputs": [
    {
     "name": "stdout",
     "output_type": "stream",
     "text": [
      "f1 is 0.8600000000000001\n"
     ]
    }
   ],
   "source": [
    "##f1 score score for Gradient Boosting\n",
    "from sklearn.metrics import f1_score  \n",
    "print(\"f1 is {}\".format(f1_score(y_test, y_pred2, pos_label='M')))"
   ]
  },
  {
   "cell_type": "markdown",
   "metadata": {},
   "source": [
    "## Random Forest Classifier"
   ]
  },
  {
   "cell_type": "code",
   "execution_count": 73,
   "metadata": {},
   "outputs": [
    {
     "name": "stdout",
     "output_type": "stream",
     "text": [
      "[[86  4]\n",
      " [ 6 47]]\n"
     ]
    },
    {
     "data": {
      "image/png": "[encoded data removed]",
      "text/plain": [
       "<Figure size 288x288 with 2 Axes>"
      ]
     },
     "metadata": {
      "needs_background": "light"
     },
     "output_type": "display_data"
    }
   ],
   "source": [
    "##Confusion matrix for Random Forest Classifier\n",
    "from sklearn.metrics import confusion_matrix\n",
    "y_pred3 = rfc.predict(X_test)\n",
    "print(confusion_matrix(y_test, y_pred3))\n",
    "import matplotlib.pyplot as plt\n",
    "plt.matshow(confusion_matrix(y_test, y_pred3))\n",
    "plt.title('Confusion matrix\\n')\n",
    "plt.colorbar()\n",
    "plt.ylabel('True label')\n",
    "plt.xlabel('\\nPredicted label')\n",
    "plt.show()"
   ]
  },
  {
   "cell_type": "code",
   "execution_count": 66,
   "metadata": {},
   "outputs": [
    {
     "name": "stdout",
     "output_type": "stream",
     "text": [
      "Precision is 0.9215686274509803\n"
     ]
    }
   ],
   "source": [
    "##Precision score for Random Forest Classifier\n",
    "from sklearn.metrics import precision_score  \n",
    "print(\"Precision is {}\".format(precision_score(y_test, y_pred3, pos_label='M')))"
   ]
  },
  {
   "cell_type": "code",
   "execution_count": 67,
   "metadata": {},
   "outputs": [
    {
     "name": "stdout",
     "output_type": "stream",
     "text": [
      "Recall Score is 0.8867924528301887\n"
     ]
    }
   ],
   "source": [
    "##Recall score for Random Forest Classifier\n",
    "from sklearn.metrics import recall_score  \n",
    "print(\"Recall Score is {}\".format(recall_score(y_test, y_pred3, pos_label='M')))"
   ]
  },
  {
   "cell_type": "code",
   "execution_count": 68,
   "metadata": {},
   "outputs": [
    {
     "name": "stdout",
     "output_type": "stream",
     "text": [
      "F1 Score is 0.9038461538461539\n"
     ]
    }
   ],
   "source": [
    "##f1 score for Random Forest Classifier\n",
    "from sklearn.metrics import f1_score  \n",
    "print(\"F1 Score is {}\".format(f1_score(y_test, y_pred3, pos_label='M')))"
   ]
  },
  {
   "cell_type": "markdown",
   "metadata": {},
   "source": [
    "After the exploration of various metrics, we can come to the conclusion that the Logistic Regression model is the best model to help us predict breast cancer diagnosis based on the metrics which we have explored. We have also seen how Principal Component analysis helps us in feature selection to improve the accuracy of our models by selection only features which are helpful in our prediction of the diagnosis. Finally, the use of machine learning techniques will only continue to move forward especially in the area of diagnosis as the techniques we have applied could be applied to other cancer types."
   ]
  },
  {
   "cell_type": "code",
   "execution_count": null,
   "metadata": {},
   "outputs": [],
   "source": []
  }
 ],
 "metadata": {
  "kernelspec": {
   "display_name": "Python 3",
   "language": "python",
   "name": "python3"
  },
  "language_info": {
   "codemirror_mode": {
    "name": "ipython",
    "version": 3
   },
   "file_extension": ".py",
   "mimetype": "text/x-python",
   "name": "python",
   "nbconvert_exporter": "python",
   "pygments_lexer": "ipython3",
   "version": "3.7.4"
  }
 },
 "nbformat": 4,
 "nbformat_minor": 4
}
